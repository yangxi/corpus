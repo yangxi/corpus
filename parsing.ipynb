{
 "cells": [
  {
   "cell_type": "code",
   "execution_count": 19,
   "id": "3e9646ae",
   "metadata": {},
   "outputs": [
    {
     "name": "stdout",
     "output_type": "stream",
     "text": [
      "The autoreload extension is already loaded. To reload it, use:\n",
      "  %reload_ext autoreload\n"
     ]
    }
   ],
   "source": [
    "%load_ext autoreload\n",
    "%autoreload 2"
   ]
  },
  {
   "cell_type": "code",
   "execution_count": 5,
   "id": "a3f0c6a9",
   "metadata": {},
   "outputs": [],
   "source": [
    "from utils.naverDict import NaverDict"
   ]
  },
  {
   "cell_type": "code",
   "execution_count": 6,
   "id": "076fc53d",
   "metadata": {},
   "outputs": [],
   "source": [
    "from bs4 import BeautifulSoup"
   ]
  },
  {
   "cell_type": "code",
   "execution_count": 7,
   "id": "f0846641",
   "metadata": {},
   "outputs": [],
   "source": [
    "nd = NaverDict()"
   ]
  },
  {
   "cell_type": "code",
   "execution_count": 8,
   "id": "572bd066",
   "metadata": {},
   "outputs": [
    {
     "data": {
      "text/plain": [
       "{}"
      ]
     },
     "execution_count": 8,
     "metadata": {},
     "output_type": "execute_result"
    }
   ],
   "source": [
    "nd.kr_dict"
   ]
  },
  {
   "cell_type": "code",
   "execution_count": 9,
   "id": "0a8c854f",
   "metadata": {},
   "outputs": [
    {
     "data": {
      "text/plain": [
       "'/Users/xyang/naver-kr.json'"
      ]
     },
     "execution_count": 9,
     "metadata": {},
     "output_type": "execute_result"
    }
   ],
   "source": [
    "nd.dict_file"
   ]
  },
  {
   "cell_type": "code",
   "execution_count": 10,
   "id": "562ec37e",
   "metadata": {},
   "outputs": [
    {
     "data": {
      "text/plain": [
       "False"
      ]
     },
     "execution_count": 10,
     "metadata": {},
     "output_type": "execute_result"
    }
   ],
   "source": [
    "nd.dict_dirty"
   ]
  },
  {
   "cell_type": "code",
   "execution_count": 11,
   "id": "cd66705e",
   "metadata": {},
   "outputs": [
    {
     "data": {
      "text/plain": [
       "<_io.TextIOWrapper name='/Users/xyang/naver-search.log' mode='a' encoding='UTF-8'>"
      ]
     },
     "execution_count": 11,
     "metadata": {},
     "output_type": "execute_result"
    }
   ],
   "source": [
    "nd.search_log"
   ]
  },
  {
   "cell_type": "code",
   "execution_count": 12,
   "id": "64c7e0a9",
   "metadata": {},
   "outputs": [
    {
     "data": {
      "text/plain": [
       "False"
      ]
     },
     "execution_count": 12,
     "metadata": {},
     "output_type": "execute_result"
    }
   ],
   "source": [
    "nd.blocked"
   ]
  },
  {
   "cell_type": "code",
   "execution_count": 13,
   "id": "f8b04196",
   "metadata": {},
   "outputs": [
    {
     "name": "stdout",
     "output_type": "stream",
     "text": [
      "Found kr_dict section\n",
      "Found kr_dict list: 5\n",
      "Found word_class2\n",
      "Found word_class2\n",
      "Found word_class2\n",
      "Found word_class2\n",
      "Found word_class2\n"
     ]
    },
    {
     "data": {
      "text/plain": [
       "[{'word': ('연변', 'ko'),\n",
       "  'explain': '[명사]\\r\\n\\t\\t\\t\\t\\t\\t\\r\\n\\t\\t\\t\\t\\t\\t\\r\\n\\t\\t\\t\\t\\t\\t\\r\\n\\t\\t\\t\\t\\t\\t\\r\\n\\t\\t\\t\\t\\t\\t\\t\\r\\n\\t\\t\\t\\t\\t\\t\\t[지명 ]\\r\\n\\t\\t\\t\\t\\t\\t\\t\\r\\n\\t\\t\\t\\t\\t\\t\\t중국 길림성(吉林省) 동부에 있는 자치주. 조선 말기에 우리나라 사람들이 이주하여 개척한 곳으로, 주민의 3분의 1 이상이 조선족이다. 1952년 자치구가 설립되었다가 1955년에 자치주로 바뀌었다. 6개의 시(市), 2...\\r\\n\\t\\t\\t\\t\\t\\t\\t\\n[유의어]\\n연변조선족자치주,\\r\\n\\t\\t\\t\\t\\t\\t\\r\\n\\t\\t\\t\\t\\t\\t\\t옌볜,\\r\\n\\t\\t\\t\\t\\t\\t\\r\\n\\t\\t\\t\\t\\t\\t\\t옌볜조선족자치주',\n",
       "  'root': ('(延邊)', 'zh')},\n",
       " {'word': ('연변', 'ko'),\n",
       "  'explain': '[명사]\\n\\r\\n\\t\\t\\t\\t\\t\\t\\r\\n\\t\\t\\t\\t\\t\\t\\t1.\\r\\n\\t\\t\\t\\t\\t\\t\\t\\r\\n\\t\\t\\t\\t\\t\\t\\t\\r\\n\\t\\t\\t\\t\\t\\t\\t둘레나 테두리.\\r\\n\\t\\t\\t\\t\\t\\t\\t\\r\\n\\t\\t\\t\\t\\t\\t\\r\\n\\t\\t\\t\\t\\t\\t\\t2.\\r\\n\\t\\t\\t\\t\\t\\t\\t\\r\\n\\t\\t\\t\\t\\t\\t\\t\\r\\n\\t\\t\\t\\t\\t\\t\\t혼인상의 친척 관계.\\r\\n\\t\\t\\t\\t\\t\\t\\t\\r\\n\\t\\t\\t\\t\\t\\t\\r\\n\\t\\t\\t\\t\\t\\t\\t3.\\r\\n\\t\\t\\t\\t\\t\\t\\t\\r\\n\\t\\t\\t\\t\\t\\t\\t\\r\\n\\t\\t\\t\\t\\t\\t\\t혈통, 정분, 법률 따위로 맺어진 관계나 인연이 있는 사람.\\r\\n\\t\\t\\t\\t\\t\\t\\t\\n[유의어]\\n가장자리,\\r\\n\\t\\t\\t\\t\\t\\t\\r\\n\\t\\t\\t\\t\\t\\t\\t둘레,\\r\\n\\t\\t\\t\\t\\t\\t\\r\\n\\t\\t\\t\\t\\t\\t\\t테두리',\n",
       "  'root': ('(緣邊)', 'zh')},\n",
       " {'word': ('연변', 'ko'),\n",
       "  'explain': '[명사]\\r\\n\\t\\t\\t\\t\\t\\t\\r\\n\\t\\t\\t\\t\\t\\t\\r\\n\\t\\t\\t\\t\\t\\t\\r\\n\\t\\t\\t\\t\\t\\t\\r\\n\\t\\t\\t\\t\\t\\t\\t\\r\\n\\t\\t\\t\\t\\t\\t\\t\\r\\n\\t\\t\\t\\t\\t\\t\\t\\r\\n\\t\\t\\t\\t\\t\\t\\t국경, 강, 철도, 도로 따위를 끼고 따라가는 언저리 일대.',\n",
       "  'root': ('(沿邊)', 'zh')},\n",
       " {'word': ('연변', 'ko'),\n",
       "  'explain': '[명사]\\r\\n\\t\\t\\t\\t\\t\\t\\r\\n\\t\\t\\t\\t\\t\\t\\r\\n\\t\\t\\t\\t\\t\\t\\r\\n\\t\\t\\t\\t\\t\\t\\r\\n\\t\\t\\t\\t\\t\\t\\t\\r\\n\\t\\t\\t\\t\\t\\t\\t\\r\\n\\t\\t\\t\\t\\t\\t\\t\\r\\n\\t\\t\\t\\t\\t\\t\\t일 년을 단위로 계산하는 이자. 또는 그런 이율.\\r\\n\\t\\t\\t\\t\\t\\t\\t\\n[유의어]\\n연리1,\\r\\n\\t\\t\\t\\t\\t\\t\\r\\n\\t\\t\\t\\t\\t\\t\\t연이율',\n",
       "  'root': ('(年邊)', 'zh')},\n",
       " {'word': ('연변', 'ko'),\n",
       "  'explain': '[명사]\\r\\n\\t\\t\\t\\t\\t\\t\\r\\n\\t\\t\\t\\t\\t\\t\\r\\n\\t\\t\\t\\t\\t\\t\\r\\n\\t\\t\\t\\t\\t\\t\\r\\n\\t\\t\\t\\t\\t\\t\\t\\r\\n\\t\\t\\t\\t\\t\\t\\t[의학 ]\\r\\n\\t\\t\\t\\t\\t\\t\\t\\r\\n\\t\\t\\t\\t\\t\\t\\t수분이 많이 함유되어 있는 변. 수분량이 매우 많은 설사와는 구분된다.',\n",
       "  'root': ('(軟便)', 'zh')}]"
      ]
     },
     "execution_count": 13,
     "metadata": {},
     "output_type": "execute_result"
    }
   ],
   "source": [
    "#chinese root\n",
    "nd.search('연변')"
   ]
  },
  {
   "cell_type": "code",
   "execution_count": 14,
   "id": "b0efd6d3",
   "metadata": {},
   "outputs": [
    {
     "name": "stdout",
     "output_type": "stream",
     "text": [
      "Found kr_dict section\n",
      "Found kr_dict list: 5\n",
      "Found word_class2\n",
      "WARN: (media) is not Chinese\n",
      "Found word_class2\n",
      "WARN: (new media) is not Chinese\n",
      "Found word_class2\n",
      "WARN: (multimedia) is not Chinese\n",
      "Found word_class2\n",
      "WARN: (mass media) is not Chinese\n",
      "Found word_class2\n",
      "WARN: (media forum) is not Chinese\n"
     ]
    },
    {
     "data": {
      "text/plain": [
       "[{'word': ('미디어', 'ko'),\n",
       "  'explain': '[명사]\\r\\n\\t\\t\\t\\t\\t\\t\\r\\n\\t\\t\\t\\t\\t\\t\\r\\n\\t\\t\\t\\t\\t\\t\\r\\n\\t\\t\\t\\t\\t\\t\\r\\n\\t\\t\\t\\t\\t\\t\\t\\r\\n\\t\\t\\t\\t\\t\\t\\t\\r\\n\\t\\t\\t\\t\\t\\t\\t\\r\\n\\t\\t\\t\\t\\t\\t\\t어떤 작용을 한쪽에서 다른 쪽으로 전달하는 역할을 하는 것.\\r\\n\\t\\t\\t\\t\\t\\t\\t\\n[유의어]\\n대중매체,\\r\\n\\t\\t\\t\\t\\t\\t\\r\\n\\t\\t\\t\\t\\t\\t\\t매개체,\\r\\n\\t\\t\\t\\t\\t\\t\\r\\n\\t\\t\\t\\t\\t\\t\\t매체',\n",
       "  'root': ('(media)', 'en')},\n",
       " {'word': ('뉴 미디어', 'ko'),\n",
       "  'explain': '[매체 ]\\r\\n\\t\\t\\t\\t\\t\\t\\t\\r\\n\\t\\t\\t\\t\\t\\t\\t전자 공학 기술이나 통신 기술이 발달하면서 등장한 새로운 전달 매체. 이용자의 필요에 따라 정보를 쉽게 얻을 수 있게 하며 사회의 정보화를 촉진시킨다. 문자 다중 방송, 쌍방향 케이블 텔레비전, 인터넷 따위가 있다.',\n",
       "  'root': ('(new media)', 'en')},\n",
       " {'word': ('멀티미디어', 'ko'),\n",
       "  'explain': '[명사]\\r\\n\\t\\t\\t\\t\\t\\t\\r\\n\\t\\t\\t\\t\\t\\t\\r\\n\\t\\t\\t\\t\\t\\t\\r\\n\\t\\t\\t\\t\\t\\t\\r\\n\\t\\t\\t\\t\\t\\t\\t\\r\\n\\t\\t\\t\\t\\t\\t\\t[정보·통신 ]\\r\\n\\t\\t\\t\\t\\t\\t\\t\\r\\n\\t\\t\\t\\t\\t\\t\\t컴퓨터를 매개로 하여 영상, 음성, 문자 따위와 같은 다양한 정보 매체를 복합적으로 만든 장치나 소프트웨어의 형태.',\n",
       "  'root': ('(multimedia)', 'en')},\n",
       " {'word': ('매스 미디어', 'ko'),\n",
       "  'explain': '[매체 ]\\r\\n\\t\\t\\t\\t\\t\\t\\t\\r\\n\\t\\t\\t\\t\\t\\t\\t신문, 잡지, 영화, 텔레비전 따위와 같이 많은 사람에게 대량으로 정보와 사상을 전달하는 매체.\\r\\n\\t\\t\\t\\t\\t\\t\\t\\n[유의어]\\n대중매개자,\\r\\n\\t\\t\\t\\t\\t\\t\\r\\n\\t\\t\\t\\t\\t\\t\\t대중매체',\n",
       "  'root': ('(mass media)', 'en')},\n",
       " {'word': ('미디어 포럼', 'ko'),\n",
       "  'explain': '[매체 ]\\r\\n\\t\\t\\t\\t\\t\\t\\t\\r\\n\\t\\t\\t\\t\\t\\t\\t소수의 개인이 정기적으로 회동하여 매스 미디어 프로그램을 시청한 뒤에 그 내용에 대하여 토론하는 소집단 모임. 흔히 가족계획이나 시사 교육 따위의 홍보 커뮤니케이션에서는 홍보 영화나 방송 프로그램 따위를 ...',\n",
       "  'root': ('(media forum)', 'en')}]"
      ]
     },
     "execution_count": 14,
     "metadata": {},
     "output_type": "execute_result"
    }
   ],
   "source": [
    "#English root\n",
    "nd.search('')"
   ]
  },
  {
   "cell_type": "code",
   "execution_count": 15,
   "id": "09907a56",
   "metadata": {},
   "outputs": [
    {
     "name": "stdout",
     "output_type": "stream",
     "text": [
      "Plan to update in file dict from 0 to 2\n"
     ]
    }
   ],
   "source": [
    "nd.update()"
   ]
  },
  {
   "cell_type": "code",
   "execution_count": 16,
   "id": "3e0b5232",
   "metadata": {},
   "outputs": [
    {
     "data": {
      "text/plain": [
       "[{'word': ('미디어', 'ko'),\n",
       "  'explain': '[명사]\\r\\n\\t\\t\\t\\t\\t\\t\\r\\n\\t\\t\\t\\t\\t\\t\\r\\n\\t\\t\\t\\t\\t\\t\\r\\n\\t\\t\\t\\t\\t\\t\\r\\n\\t\\t\\t\\t\\t\\t\\t\\r\\n\\t\\t\\t\\t\\t\\t\\t\\r\\n\\t\\t\\t\\t\\t\\t\\t\\r\\n\\t\\t\\t\\t\\t\\t\\t어떤 작용을 한쪽에서 다른 쪽으로 전달하는 역할을 하는 것.\\r\\n\\t\\t\\t\\t\\t\\t\\t\\n[유의어]\\n대중매체,\\r\\n\\t\\t\\t\\t\\t\\t\\r\\n\\t\\t\\t\\t\\t\\t\\t매개체,\\r\\n\\t\\t\\t\\t\\t\\t\\r\\n\\t\\t\\t\\t\\t\\t\\t매체',\n",
       "  'root': ('(media)', 'en')},\n",
       " {'word': ('뉴 미디어', 'ko'),\n",
       "  'explain': '[매체 ]\\r\\n\\t\\t\\t\\t\\t\\t\\t\\r\\n\\t\\t\\t\\t\\t\\t\\t전자 공학 기술이나 통신 기술이 발달하면서 등장한 새로운 전달 매체. 이용자의 필요에 따라 정보를 쉽게 얻을 수 있게 하며 사회의 정보화를 촉진시킨다. 문자 다중 방송, 쌍방향 케이블 텔레비전, 인터넷 따위가 있다.',\n",
       "  'root': ('(new media)', 'en')},\n",
       " {'word': ('멀티미디어', 'ko'),\n",
       "  'explain': '[명사]\\r\\n\\t\\t\\t\\t\\t\\t\\r\\n\\t\\t\\t\\t\\t\\t\\r\\n\\t\\t\\t\\t\\t\\t\\r\\n\\t\\t\\t\\t\\t\\t\\r\\n\\t\\t\\t\\t\\t\\t\\t\\r\\n\\t\\t\\t\\t\\t\\t\\t[정보·통신 ]\\r\\n\\t\\t\\t\\t\\t\\t\\t\\r\\n\\t\\t\\t\\t\\t\\t\\t컴퓨터를 매개로 하여 영상, 음성, 문자 따위와 같은 다양한 정보 매체를 복합적으로 만든 장치나 소프트웨어의 형태.',\n",
       "  'root': ('(multimedia)', 'en')},\n",
       " {'word': ('매스 미디어', 'ko'),\n",
       "  'explain': '[매체 ]\\r\\n\\t\\t\\t\\t\\t\\t\\t\\r\\n\\t\\t\\t\\t\\t\\t\\t신문, 잡지, 영화, 텔레비전 따위와 같이 많은 사람에게 대량으로 정보와 사상을 전달하는 매체.\\r\\n\\t\\t\\t\\t\\t\\t\\t\\n[유의어]\\n대중매개자,\\r\\n\\t\\t\\t\\t\\t\\t\\r\\n\\t\\t\\t\\t\\t\\t\\t대중매체',\n",
       "  'root': ('(mass media)', 'en')},\n",
       " {'word': ('미디어 포럼', 'ko'),\n",
       "  'explain': '[매체 ]\\r\\n\\t\\t\\t\\t\\t\\t\\t\\r\\n\\t\\t\\t\\t\\t\\t\\t소수의 개인이 정기적으로 회동하여 매스 미디어 프로그램을 시청한 뒤에 그 내용에 대하여 토론하는 소집단 모임. 흔히 가족계획이나 시사 교육 따위의 홍보 커뮤니케이션에서는 홍보 영화나 방송 프로그램 따위를 ...',\n",
       "  'root': ('(media forum)', 'en')}]"
      ]
     },
     "execution_count": 16,
     "metadata": {},
     "output_type": "execute_result"
    }
   ],
   "source": [
    "nd.search('미디어')"
   ]
  },
  {
   "cell_type": "code",
   "execution_count": 3,
   "id": "4ad92cc4",
   "metadata": {},
   "outputs": [],
   "source": [
    "from utils.word_root import mark_article\n"
   ]
  },
  {
   "cell_type": "code",
   "execution_count": null,
   "id": "0c965682",
   "metadata": {},
   "outputs": [],
   "source": []
  },
  {
   "cell_type": "code",
   "execution_count": 1,
   "id": "5d26dbb9",
   "metadata": {},
   "outputs": [],
   "source": [
    "%load_ext autoreload\n",
    "%autoreload 2"
   ]
  },
  {
   "cell_type": "code",
   "execution_count": 2,
   "id": "a48fdeef",
   "metadata": {},
   "outputs": [],
   "source": [
    "import json\n",
    "sources = None\n",
    "with open('./test/example_corpus/source.json', 'r') as fd:\n",
    "    sources = json.load(fd)"
   ]
  },
  {
   "cell_type": "code",
   "execution_count": 20,
   "id": "9e7929b2",
   "metadata": {},
   "outputs": [],
   "source": [
    "from utils.analyze_corpus import CorpusAnalyzer"
   ]
  },
  {
   "cell_type": "code",
   "execution_count": 21,
   "id": "2bec23ff",
   "metadata": {},
   "outputs": [],
   "source": [
    "test_corpus = CorpusAnalyzer('./test/example_corpus/source.json')"
   ]
  },
  {
   "cell_type": "code",
   "execution_count": 22,
   "id": "e2dba02d",
   "metadata": {},
   "outputs": [
    {
     "name": "stdout",
     "output_type": "stream",
     "text": [
      "Plan to update in file dict from 92 to 96\n",
      "Plan to update in file dict from 96 to 469\n",
      "Tag 2 articles with 0 errors\n"
     ]
    }
   ],
   "source": [
    "test_corpus.tag_articles()"
   ]
  },
  {
   "cell_type": "code",
   "execution_count": 25,
   "id": "0925c44e",
   "metadata": {},
   "outputs": [],
   "source": [
    "test_corpus.save_articles('./test/example_corpus/tag.json')"
   ]
  },
  {
   "cell_type": "code",
   "execution_count": null,
   "id": "116b33d3",
   "metadata": {},
   "outputs": [],
   "source": []
  },
  {
   "cell_type": "code",
   "execution_count": null,
   "id": "65e1e810",
   "metadata": {},
   "outputs": [],
   "source": []
  },
  {
   "cell_type": "code",
   "execution_count": null,
   "id": "d5e8ec35",
   "metadata": {},
   "outputs": [],
   "source": []
  },
  {
   "cell_type": "code",
   "execution_count": null,
   "id": "fca68731",
   "metadata": {},
   "outputs": [],
   "source": []
  },
  {
   "cell_type": "code",
   "execution_count": null,
   "id": "4da65ad6",
   "metadata": {},
   "outputs": [],
   "source": []
  },
  {
   "cell_type": "code",
   "execution_count": null,
   "id": "2f9fd02e",
   "metadata": {},
   "outputs": [],
   "source": []
  },
  {
   "cell_type": "code",
   "execution_count": 3,
   "id": "adaa0933",
   "metadata": {},
   "outputs": [
    {
     "data": {
      "text/plain": [
       "[{'title': '최려령 제12회 중국곡예 목단상 입선',\n",
       "  'author': '',\n",
       "  'catalogue': '문화일반-연변일보 Yanbian Daily',\n",
       "  'date': '2022-05-27 09:07:02',\n",
       "  'img': 'http://www.iybrb.com/civ/images/2022-05/27/6d46760e-c434-42a8-b350-82450a623154.jpg',\n",
       "  'summary': '일전 제12회 중국곡예 목단상 전국곡예시합 입선명단이 발표됐다.',\n",
       "  'url': 'http://www.iybrb.com/civ/content/2022-05/27/26_553578.html',\n",
       "  'content': '일전 제12회 중국곡예 목단상 전국곡예시합 입선명단이 발표됐다.길림성곡예가협회에서 추천한 2부의 작품과 길림성 2인전예술가협회에서 추천한 4부의 작품이 목단상에 입선됐는데 그중에는 량영우가 작사하고 강화가 감독, 최려령이 표현한 <오리정>이 들어있다.<오리정>은 춘향이 한양으로 떠나는 리몽룡과 오리정에서 리별하는 대목으로, 춘향의 리별을 앞둔 슬픈 심정을 생동하게 표현하는 작품이다. 일찍 2014년에 길림성곡예가협회의 지도하에 최려령은 제8회 중국곡예 목단상 ‘특별신인상’을 수상한 바 있다.입선된 6부의 작품은 길림성을 대표해 각 분회장의 시합에 참가하게 된다. 이것은 최근년에 길림성에서 입선 종목수가 가장 많은 한회이다. 중국곡예 목단상은 중국문련, 중국곡예가협회에서 공동 주최하는 전국성 곡예상으로 곡예 분야의 국가급 최고상이며 2년에 한번씩 개최한다.\\u3000\\u3000길림성곡예가협회에서는 온라인으로 곡예작품 세미나를 개최하고 관련 전문가에게 작품지도를 요청한 뒤 연습을 다그쳐 작품의 질을 높이고 좋은 성적을 따내 우리 성의 영예를 빛낼 것이라 계획을 밝혔다. 중국길림넷'},\n",
       " {'title': '한편의 영화를 보는 것 같은 책들',\n",
       "  'author': '종합',\n",
       "  'catalogue': '문화일반-연변일보 Yanbian Daily',\n",
       "  'date': '2022-05-24 15:15:34',\n",
       "  'img': 'http://www.iybrb.com/civ/images/2022-05/24/957d48f9-c6fa-4ec2-afb8-2b6b547d50b9.jpg',\n",
       "  'summary': '따뜻한 날씨가 이어지면서 가까운 산과 들로 산책을 떠나는 이들이 점차 늘고 있다. 바깥구경도 좋지만 하루쯤은 집밖에 안나가고 영화나 책을 보는 것도 좋을 듯 싶다.',\n",
       "  'url': 'http://www.iybrb.com/civ/content/2022-05/24/26_553074.html',\n",
       "  'content': '따뜻한 날씨가 이어지면서 가까운 산과 들로 산책을 떠나는 이들이 점차 늘고 있다. 바깥구경도 좋지만 하루쯤은 집밖에 안나가고 영화나 책을 보는 것도 좋을 듯 싶다.덕후처럼 몰입되면서 한편의 영화를 보는 것 같은 느낌을 주는 책 몇권을 추천한다.주제 사라마구의 《눈 먼 자들의 도시》, 한 도시 전체에 ‘실명’이라는 전염병이 퍼진다는 가정에서 출발한다. 이 소설은 시간적 공간적 배경이 확실하지 않으며 등장하는 인물들의 이름 또한 따로 없는 것이 특징이다. 여기서 중요한 것은 이름이 아니라 ‘눈이 멀었다’는 사실 그 자체다. 작품 속의 인간들은 물질적 소유에 눈이 멀었을 뿐만 아니라 그 소유를 위해 자신의 인간성조차 잃어버린 장님들인 것이다. 수용소에 강제 격리되여 각자의 리익을 챙기는 눈먼 사람들, 이들에게 무차별하게 총격을 가하는 군인들의 폭력, 전염을 막기 위해 수용 조치를 내린 랭소적인 정치인, 범죄 집단을 방불케 하는 폭도들이 등장한다.이 소설은 우리가 가지고 있는 것을 잃었을 때에야 가지고 있는 것이 무엇인지를 깨닫게 된다는 사실을 날카롭게 풍자한다. 그러나 이 소설에는 현대 사회의 어두운 면만 있지는 않다. 처음으로 눈이 멀어 수용소에 갇히는 인물들은 함께 서로의 고통을 나누고 의지하며 도와가는 진정한 인간의 모습을 보여준다. 사라마구는 이들의 모습에서 인간이 살아가는 본질적인 리유를 제시하고 있는 것이다. 특히 유일하게 눈이 멀지 않은 ‘안과 의사의 안해’는 바로 인간의 선한 면을 상징하고 있다.《잘못은 우리 별에 있어》, 미국의 대표적인 젊은 스타 작가 존 그린의 최신작이자 최고작이다. 존 그린은 한해 가장 뛰여난 청소년 교양도서를 선정, 수여하는 프린츠 상과 가장 뛰여난 미스터리에 수여하는 에드거상을 동시에 수상한 다재다능한 소설가이다. 반짝이는 유머와 절절한 눈물이 어우러진 이 책은 존 그린의 검증된 문학성과 재기를 응축한 결정체라 할 만하다.그런 점을 인정받아 출간 즉시 베스트셀러가 된 것은 물론, 일일이 글로 옮기기 힘들 정도의 무수한 찬사를 받았다. 그 애정 고백의 상당수는 쟁쟁한 언론과 평론가, 그리고 동료 작가들로부터 나왔다. 가장 아름다운 것만이 가장 슬프다. 빛나는 유머와 생생한 슬픔으로 꽉 찬 보석 같은 소설로 아마존닷컴 선정 2012년 최고의 책에 올라 있기도 하다.얀 마텔의 《파이 이야기》, 인도 소년 ‘파이 파텔’과 벵골 호랑이 ‘리처드 파커’의 227일간 이어진 태평양 표류기를 담은 이 작품은 “황홀하고, 멋진, 절망적이지만 쾌활한” 모험소설이자 고통의 바다 속에서도 희망을 잃지 않은 성장소설로, 묵직한 철학적, 종교적 담론과 인간에 대한 깊은 통찰을 이끌어내며 이 시대의 고전 반렬에 올랐다. 2012년, 바다에서의 \\xa0극한의 생존 상황을 환상적인 영상미로 그려내며 아카데미상과 골든글로브상을 동시 수상한 리안 감독의 영화 《라이프 오브 파이》 의 원작이다.이야기는 흥미진진함과 재미를 듬뿍 담은 동시에 궁극적인 신념과 희망을 이야기하는 소설이다. 맨부커상 수상 작가이자 세계적인 소설가인 마거릿 애트우드는 이 책에 대해 \"《로빈슨 크루소》， 《걸리버 려행기》， 《백경》을 잇는 최고의 모험 소설”이라고 평했으며 미국 아마존에는 “끝없이 펼쳐진 푸른 바다를 배경으로 한 모험, 생존 그리고 신념에 관한 소설”이라는 평이 올랐다. 낯선 곳에서 펼쳐질 새로운 삶에 대한 기대로 한껏 부풀었다가 사랑하는 가족을 한순간에 잃어버리고, 겨우 살아남았나 했더니 언제 자기를 잡아먹을지 모를 벵골 호랑이와 공존 아닌 공존을 해야 하는 상황에 놓인 인도 소년 파이, 절망의 순간에 이르러 희망을 찾은 이 소년의 이야기는 세대를 뛰어넘어 모든 이들에게 오래도록 깊은 감동을 선사하고 있다.빅토르 위고의 《레미제라블》은 출간될 때부터 거대한 감동을 몰고 왔다. 프랑스 독자들 사이에 책의 인기는 떨어질 줄을 몰라 작가는 평생 안정적인 생활을 보장받을 수 있었다. 이 소설은 남북전쟁 당시 서로 총을 겨누고 대치한 미국 군인들 사이에서도 가장 인기 있는 책이였다고 한다. 이 소설은 사람들에게 동정심을 불러일으키고 고통 받는 이의 마음을 움직여 치료해주는 초월적 사랑의 힘도 지니고 있다. 비앵브뉘 주교, 장 발장, 코제트, 자베르와 마리우스처럼 오래동안 잊히지 않고 깊은 감동을 주는 캐릭터도 드물 것이다. 장 발장은 플로베르의 마담 보바리, 디킨스의 아벨 매그위치, 멜빌의 에이헙 선장만큼이나 인상 깊은 주인공 중 하나임에 틀림없다.\\u3000\\u3000불쌍한 사람들, 가련한 사람들이란 뜻의 ‘레 미제라블’은 배고픈 조카들을 위해 빵 한 덩이를 훔친 죄로 무려 19년간 감옥살이를 한 장 발장의 이야기로부터 시작된다. 다시 세상으로 나온 장 발장은 은식기를 훔치려다 미리엘 주교로부터 한없는 자비를 배우게 되고 거기서 얻은 깨달음으로 사랑과 선의를 다시금 베풀며 진정한 인간으로서의 길을 보여준다. 장 발장의 이야기뿐 아니라 세상의 가혹함을 보여 주는 여러 인물들을 통해 위고는 당대 프랑스 력사와 사회의 비정함에 대해 낱낱이 파헤친다. 종합'}]"
      ]
     },
     "execution_count": 3,
     "metadata": {},
     "output_type": "execute_result"
    }
   ],
   "source": [
    "sources"
   ]
  },
  {
   "cell_type": "code",
   "execution_count": 4,
   "id": "fb2c0e06",
   "metadata": {},
   "outputs": [],
   "source": [
    "article = sources[0]"
   ]
  },
  {
   "cell_type": "code",
   "execution_count": 10,
   "id": "558e4b21",
   "metadata": {},
   "outputs": [],
   "source": [
    "tag = mark_article(article)"
   ]
  },
  {
   "cell_type": "code",
   "execution_count": 11,
   "id": "5e392d07",
   "metadata": {},
   "outputs": [
    {
     "data": {
      "text/plain": [
       "{'title_total_words': 6,\n",
       " 'body_total_words': 149,\n",
       " 'article_total_words': 155,\n",
       " 'title_korean_words': 6,\n",
       " 'body_korean_words': 149,\n",
       " 'article_korean_words': 155,\n",
       " 'title_chinese_words': 0,\n",
       " 'body_chinese_words': 0,\n",
       " 'article_chinese_words': 0,\n",
       " 'title_english_words': 0,\n",
       " 'body_english_words': 0,\n",
       " 'article_english_words': 0,\n",
       " 'title_japanese_words': 0,\n",
       " 'body_japanese_words': 0,\n",
       " 'article_japanese_words': 0,\n",
       " 'title_kroot_words': 1,\n",
       " 'body_kroot_words': 36,\n",
       " 'article_kroot_words': 37,\n",
       " 'title_croot_words': 4,\n",
       " 'body_croot_words': 107,\n",
       " 'article_croot_words': 111,\n",
       " 'title_eroot_words': 0,\n",
       " 'body_eroot_words': 2,\n",
       " 'article_eroot_words': 2,\n",
       " 'title_oroot_words': 1,\n",
       " 'body_oroot_words': 4,\n",
       " 'article_oroot_words': 5,\n",
       " 'title_korean_noun': 6,\n",
       " 'body_korean_noun': 130,\n",
       " 'article_korean_noun': 136,\n",
       " 'title_korean_kroot_noun': 1,\n",
       " 'body_korean_kroot_noun': 20,\n",
       " 'article_korean_kroot_noun': 21,\n",
       " 'title_korean_croot_noun': 4,\n",
       " 'body_korean_croot_noun': 105,\n",
       " 'article_korean_croot_noun': 109,\n",
       " 'title_korean_eroot_noun': 0,\n",
       " 'body_korean_eroot_noun': 2,\n",
       " 'article_korean_eroot_noun': 2,\n",
       " 'title_korean_oroot_noun': 1,\n",
       " 'body_korean_oroot_noun': 3,\n",
       " 'article_korean_oroot_noun': 4,\n",
       " 'title_korean_verb': 6,\n",
       " 'body_korean_verb': 130,\n",
       " 'article_korean_verb': 136,\n",
       " 'title_korean_kroot_verb': 0,\n",
       " 'body_korean_kroot_verb': 16,\n",
       " 'article_korean_kroot_verb': 16,\n",
       " 'title_korean_croot_verb': 0,\n",
       " 'body_korean_croot_verb': 2,\n",
       " 'article_korean_croot_verb': 2,\n",
       " 'title_korean_eroot_verb': 0,\n",
       " 'body_korean_eroot_verb': 0,\n",
       " 'article_korean_eroot_verb': 0,\n",
       " 'title_korean_oroot_verb': 0,\n",
       " 'body_korean_oroot_verb': 1,\n",
       " 'article_korean_oroot_verb': 1,\n",
       " 'title_eroot_list': '[]',\n",
       " 'body_eroot_list': \"['온라인', '세미나']\",\n",
       " 'article_eroot_list': \"[]['온라인', '세미나']\",\n",
       " 'title_croot_list': \"['중국', '곡예', '목단', '입선']\",\n",
       " 'body_croot_list': \"['일전', '중국', '곡예', '목단', '전국', '곡예', '시합', '입선', '명단', '발표', '길림성', '곡예', '협회', '추천', '부의', '작품', '길림성', '인전', '예술가', '협회', '추천', '부의', '작품', '목단', '입선', '중', '량영우', '작사', '강화', '감독', '표현', '정', '정', '은', '춘', '향', '한양', '정', '리별', '춘', '향', '리별', '심정', '생동', '표현', '작품', '길림성', '곡예', '협회', '지도', '중국', '곡예', '목단', '특별', '신인상', '입선', '부의', '작품', '길림성', '대표', '각', '회장', '시합', '참가', '최근', '년', '길림성', '입선', '종목', '수가', '회', '중국', '곡예', '목단', '중국', '중국', '곡예', '협회', '공동', '주최', '전국', '곡예', '곡예', '분야', '국가', '최고', '개최', '길림성', '곡예', '협회', '곡예', '작품', '개최', '관련', '전문가', '작품', '지도', '요청', '연습', '작품', '질', '성적', '성의', '영예', '계획', '중국', '길림']\",\n",
       " 'article_croot_list': \"['중국', '곡예', '목단', '입선']['일전', '중국', '곡예', '목단', '전국', '곡예', '시합', '입선', '명단', '발표', '길림성', '곡예', '협회', '추천', '부의', '작품', '길림성', '인전', '예술가', '협회', '추천', '부의', '작품', '목단', '입선', '중', '량영우', '작사', '강화', '감독', '표현', '정', '정', '은', '춘', '향', '한양', '정', '리별', '춘', '향', '리별', '심정', '생동', '표현', '작품', '길림성', '곡예', '협회', '지도', '중국', '곡예', '목단', '특별', '신인상', '입선', '부의', '작품', '길림성', '대표', '각', '회장', '시합', '참가', '최근', '년', '길림성', '입선', '종목', '수가', '회', '중국', '곡예', '목단', '중국', '중국', '곡예', '협회', '공동', '주최', '전국', '곡예', '곡예', '분야', '국가', '최고', '개최', '길림성', '곡예', '협회', '곡예', '작품', '개최', '관련', '전문가', '작품', '지도', '요청', '연습', '작품', '질', '성적', '성의', '영예', '계획', '중국', '길림']\",\n",
       " 'title_tag_text': \"Korean:6 Chinese:0 English:0 Japaness:0 Unknown:0\\nTotalKorean:6 k:1 c:4 e:0 o:1\\nNouns      :6 k:1 c:4 e:0 o:1\\nVerbs      :0 K:0 c:0 e:0 o:0\\nEnglishRoot:[]\\nChineseRoot:['중국', '곡예', '목단', '입선']\\n\",\n",
       " 'body_tag_text': \"Korean:149 Chinese:0 English:0 Japaness:0 Unknown:0\\nTotalKorean:149 k:36 c:107 e:2 o:4\\nNouns      :130 k:20 c:105 e:2 o:3\\nVerbs      :19 K:16 c:2 e:0 o:1\\nEnglishRoot:['온라인', '세미나']\\nChineseRoot:['일전', '중국', '곡예', '목단', '전국', '곡예', '시합', '입선', '명단', '발표', '길림성', '곡예', '협회', '추천', '부의', '작품', '길림성', '인전', '예술가', '협회', '추천', '부의', '작품', '목단', '입선', '중', '량영우', '작사', '강화', '감독', '표현', '정', '정', '은', '춘', '향', '한양', '정', '리별', '춘', '향', '리별', '심정', '생동', '표현', '작품', '길림성', '곡예', '협회', '지도', '중국', '곡예', '목단', '특별', '신인상', '입선', '부의', '작품', '길림성', '대표', '각', '회장', '시합', '참가', '최근', '년', '길림성', '입선', '종목', '수가', '회', '중국', '곡예', '목단', '중국', '중국', '곡예', '협회', '공동', '주최', '전국', '곡예', '곡예', '분야', '국가', '최고', '개최', '길림성', '곡예', '협회', '곡예', '작품', '개최', '관련', '전문가', '작품', '지도', '요청', '연습', '작품', '질', '성적', '성의', '영예', '계획', '중국', '길림']\\n\",\n",
       " 'article_tag_text': \"url:http://www.iybrb.com/civ/content/2022-05/27/26_553578.html\\n=============================\\nKorean:6 Chinese:0 English:0 Japaness:0 Unknown:0\\nTotalKorean:6 k:1 c:4 e:0 o:1\\nNouns      :6 k:1 c:4 e:0 o:1\\nVerbs      :0 K:0 c:0 e:0 o:0\\nEnglishRoot:[]\\nChineseRoot:['중국', '곡예', '목단', '입선']\\n최려령 제12회 중국곡예 목단상 입선\\no.....k.....c..c...c....c..\\n=============================\\nKorean:149 Chinese:0 English:0 Japaness:0 Unknown:0\\nTotalKorean:149 k:36 c:107 e:2 o:4\\nNouns      :130 k:20 c:105 e:2 o:3\\nVerbs      :19 K:16 c:2 e:0 o:1\\nEnglishRoot:['온라인', '세미나']\\nChineseRoot:['일전', '중국', '곡예', '목단', '전국', '곡예', '시합', '입선', '명단', '발표', '길림성', '곡예', '협회', '추천', '부의', '작품', '길림성', '인전', '예술가', '협회', '추천', '부의', '작품', '목단', '입선', '중', '량영우', '작사', '강화', '감독', '표현', '정', '정', '은', '춘', '향', '한양', '정', '리별', '춘', '향', '리별', '심정', '생동', '표현', '작품', '길림성', '곡예', '협회', '지도', '중국', '곡예', '목단', '특별', '신인상', '입선', '부의', '작품', '길림성', '대표', '각', '회장', '시합', '참가', '최근', '년', '길림성', '입선', '종목', '수가', '회', '중국', '곡예', '목단', '중국', '중국', '곡예', '협회', '공동', '주최', '전국', '곡예', '곡예', '분야', '국가', '최고', '개최', '길림성', '곡예', '협회', '곡예', '작품', '개최', '관련', '전문가', '작품', '지도', '요청', '연습', '작품', '질', '성적', '성의', '영예', '계획', '중국', '길림']\\n일전 제12회 중국곡예 목단상 전국곡예시합 입선명단이 발표됐다.길림성곡예가협회에서 추천한 2부의 작품과 길림성 2인전예술가\\nc...k.....c..c...c.....c..c..c...c..c....c..k...c....c...c......c......c...c....c......c..c...\\n협회에서 추천한 4부의 작품이 목단상에 입선됐는데 그중에는 량영우가 작사하고 강화가 감독, 최려령이 표현한 <오리정>이\\nc......c......c...c....c......c..k......c.....c......c......c....c....o......c......k..c.k.\\n 들어있다.<오리정>은 춘향이 한양으로 떠나는 리몽룡과 오리정에서 리별하는 대목으로, 춘향의 리별을 앞둔 슬픈 심정을 생동\\n.o.......k..c..c.c.c...c......k....o......k..c.....c......k.......cc...c.....k.......c....c..\\n하게 표현하는 작품이다. 일찍 2014년에 길림성곡예가협회의 지도하에 최려령은 제8회 중국곡예 목단상 ‘특별신인상’을 수상한\\nk...c..k...c.......k...........c....c...c.....c......o......k....c..c...c.....c..c.......k....\\n 바 있다.입선된 6부의 작품은 길림성을 대표해 각 분회장의 시합에 참가하게 된다. 이것은 최근년에 길림성에서 입선 종목\\n.k......c..k..c...c.....c......c..k.c..kc.....c....c..k...k......k...c..c...c.......c...c..\\n수가 가장 많은 한회이다. 중국곡예 목단상은 중국문련, 중국곡예가협회에서 공동 주최하는 전국성 곡예상으로 곡예 분야의 국가\\nc...k.........c.....c..c...c......c..k....c..c....c......c...c..k...c....c........c...c....c..\\n급 최고상이며 2년에 한번씩 개최한다.\\u3000\\u3000길림성곡예가협회에서는 온라인으로 곡예작품 세미나를 개최하고 관련 전문가에게 작품\\n...c............k.....c..k.....c...c....c.......e........c..c...e......c......c...c.......c..\\n지도를 요청한 뒤 연습을 다그쳐 작품의 질을 높이고 좋은 성적을 따내 우리 성의 영예를 빛낼 것이라 계획을 밝혔다. 중국\\nc.....c....k..c....k.....c....c...k.........c....k...k...c...c.....k...k....c.....k.....c..\\n길림넷\\nc..k.\\n\"}"
      ]
     },
     "execution_count": 11,
     "metadata": {},
     "output_type": "execute_result"
    }
   ],
   "source": [
    "tag"
   ]
  },
  {
   "cell_type": "code",
   "execution_count": null,
   "id": "daca37bf",
   "metadata": {},
   "outputs": [],
   "source": []
  },
  {
   "cell_type": "code",
   "execution_count": 9,
   "id": "068c1530",
   "metadata": {},
   "outputs": [
    {
     "name": "stdout",
     "output_type": "stream",
     "text": [
      "hello\n"
     ]
    }
   ],
   "source": [
    "print('hello') if verbose else 0"
   ]
  },
  {
   "cell_type": "code",
   "execution_count": null,
   "id": "ddb21640",
   "metadata": {},
   "outputs": [],
   "source": []
  },
  {
   "cell_type": "code",
   "execution_count": null,
   "id": "c9dd85ac",
   "metadata": {},
   "outputs": [],
   "source": []
  },
  {
   "cell_type": "code",
   "execution_count": null,
   "id": "01644137",
   "metadata": {},
   "outputs": [],
   "source": []
  },
  {
   "cell_type": "code",
   "execution_count": 8,
   "id": "b506ddd4",
   "metadata": {},
   "outputs": [
    {
     "ename": "KeyError",
     "evalue": "'source'",
     "output_type": "error",
     "traceback": [
      "\u001b[0;31m---------------------------------------------------------------------------\u001b[0m",
      "\u001b[0;31mKeyError\u001b[0m                                  Traceback (most recent call last)",
      "Input \u001b[0;32mIn [8]\u001b[0m, in \u001b[0;36m<module>\u001b[0;34m\u001b[0m\n\u001b[0;32m----> 1\u001b[0m t \u001b[38;5;241m=\u001b[39m \u001b[43mm\u001b[49m\u001b[38;5;241;43m.\u001b[39;49m\u001b[43mparse_article\u001b[49m\u001b[43m(\u001b[49m\u001b[43msources\u001b[49m\u001b[43m[\u001b[49m\u001b[38;5;241;43m0\u001b[39;49m\u001b[43m]\u001b[49m\u001b[43m)\u001b[49m\n",
      "File \u001b[0;32m~/code/corpus/utils/mark_yanbian.py:69\u001b[0m, in \u001b[0;36mMarkArticles.parse_article\u001b[0;34m(self, art)\u001b[0m\n\u001b[1;32m     67\u001b[0m \u001b[38;5;28;01mdef\u001b[39;00m \u001b[38;5;21mparse_article\u001b[39m(\u001b[38;5;28mself\u001b[39m, art):\n\u001b[1;32m     68\u001b[0m     tag \u001b[38;5;241m=\u001b[39m {}\n\u001b[0;32m---> 69\u001b[0m     source \u001b[38;5;241m=\u001b[39m \u001b[43mart\u001b[49m\u001b[43m[\u001b[49m\u001b[38;5;124;43m'\u001b[39;49m\u001b[38;5;124;43msource\u001b[39;49m\u001b[38;5;124;43m'\u001b[39;49m\u001b[43m]\u001b[49m        \n\u001b[1;32m     70\u001b[0m     url \u001b[38;5;241m=\u001b[39m source[\u001b[38;5;124m\"\u001b[39m\u001b[38;5;124murl\u001b[39m\u001b[38;5;124m\"\u001b[39m]\n\u001b[1;32m     71\u001b[0m     title \u001b[38;5;241m=\u001b[39m source[\u001b[38;5;124m\"\u001b[39m\u001b[38;5;124mtitle\u001b[39m\u001b[38;5;124m\"\u001b[39m]\n",
      "\u001b[0;31mKeyError\u001b[0m: 'source'"
     ]
    }
   ],
   "source": [
    "t = m.parse_article(sources[0])"
   ]
  },
  {
   "cell_type": "code",
   "execution_count": 12,
   "id": "005fc991",
   "metadata": {},
   "outputs": [
    {
     "name": "stdout",
     "output_type": "stream",
     "text": [
      "Exception:object of type 'NoneType' has no len() while searching word 최려령\n",
      "Found root:['(中國)', 'zh'] for word:중국\n",
      "Found root:['(曲藝)', 'zh'] for word:곡예\n",
      "Found root:['(牧丹)', 'zh'] for word:목단\n",
      "Found root:['(入選)', 'zh'] for word:입선\n",
      "Found root:['(日前)', 'zh'] for word:일전\n",
      "Found root:['(中國)', 'zh'] for word:중국\n",
      "Found root:['(曲藝)', 'zh'] for word:곡예\n",
      "Found root:['(牧丹)', 'zh'] for word:목단\n",
      "Found root:['(全國)', 'zh'] for word:전국\n",
      "Found root:['(曲藝)', 'zh'] for word:곡예\n",
      "Found root:['(試合)', 'zh'] for word:시합\n",
      "Found root:['(入選)', 'zh'] for word:입선\n",
      "Found root:['(名單)', 'zh'] for word:명단\n",
      "Found root:['(發表)', 'zh'] for word:발표\n",
      "Found root:['(吉林省)', 'zh'] for word:길림성\n",
      "Found root:['(曲藝)', 'zh'] for word:곡예\n",
      "Found root:['(協會)', 'zh'] for word:협회\n",
      "Found root:['(推薦)', 'zh'] for word:추천\n",
      "Found root:['(賻儀)', 'zh'] for word:부의\n",
      "Found root:['(作品)', 'zh'] for word:작품\n",
      "Found root:['(吉林省)', 'zh'] for word:길림성\n",
      "Found root:['(印篆)', 'zh'] for word:인전\n",
      "Found root:['(藝術家)', 'zh'] for word:예술가\n",
      "Found root:['(協會)', 'zh'] for word:협회\n",
      "Found root:['(推薦)', 'zh'] for word:추천\n",
      "Found root:['(賻儀)', 'zh'] for word:부의\n",
      "Found root:['(作品)', 'zh'] for word:작품\n",
      "Found root:['(牧丹)', 'zh'] for word:목단\n",
      "Found root:['(入選)', 'zh'] for word:입선\n",
      "Found root:['(中)', 'zh'] for word:중\n",
      "Found root:['(英語)', 'zh'] for word:량영우\n",
      "Found root:['(作詞)', 'zh'] for word:작사\n",
      "Found root:['(強化)', 'zh'] for word:강화\n",
      "Found root:['(監督)', 'zh'] for word:감독\n",
      "Exception:object of type 'NoneType' has no len() while searching word 최려령\n",
      "Found root:['(表現)', 'zh'] for word:표현\n",
      "Found root:['(情)', 'zh'] for word:정\n",
      "Found kr_dict section\n",
      "Found kr_dict list: 5\n",
      "Found root:['(情)', 'zh'] for word:정\n",
      "Found root:['(銀)', 'zh'] for word:은\n",
      "Found root:['(椿)', 'zh'] for word:춘\n",
      "Found root:['(香)', 'zh'] for word:향\n",
      "Found root:['(漢陽)', 'zh'] for word:한양\n",
      "Exception:object of type 'NoneType' has no len() while searching word 리몽룡\n",
      "Found root:['(情)', 'zh'] for word:정\n",
      "Found root:['(離別)', 'zh'] for word:리별\n",
      "Found root:['(椿)', 'zh'] for word:춘\n",
      "Found root:['(香)', 'zh'] for word:향\n",
      "Found root:['(離別)', 'zh'] for word:리별\n",
      "Found root:['(心情)', 'zh'] for word:심정\n",
      "Found root:['(生動)', 'zh'] for word:생동\n",
      "Found root:['(表現)', 'zh'] for word:표현\n",
      "Found root:['(作品)', 'zh'] for word:작품\n",
      "Found root:['(吉林省)', 'zh'] for word:길림성\n",
      "Found root:['(曲藝)', 'zh'] for word:곡예\n",
      "Found root:['(協會)', 'zh'] for word:협회\n",
      "Found root:['(地圖)', 'zh'] for word:지도\n",
      "Exception:object of type 'NoneType' has no len() while searching word 최려령\n",
      "Found root:['(中國)', 'zh'] for word:중국\n",
      "Found root:['(曲藝)', 'zh'] for word:곡예\n",
      "Found root:['(牧丹)', 'zh'] for word:목단\n",
      "Found root:['(特別)', 'zh'] for word:특별\n",
      "Found root:['(新人賞)', 'zh'] for word:신인상\n",
      "Found root:['(殊常하다)', 'ko'] for word:수상한\n",
      "Found root:['(入選)', 'zh'] for word:입선\n",
      "Found root:['(賻儀)', 'zh'] for word:부의\n",
      "Found root:['(作品)', 'zh'] for word:작품\n",
      "Found root:['(吉林省)', 'zh'] for word:길림성\n",
      "Found root:['(代表)', 'zh'] for word:대표\n",
      "Found root:['(各)', 'zh'] for word:각\n",
      "Found root:['(會長)', 'zh'] for word:회장\n",
      "Found root:['(試合)', 'zh'] for word:시합\n",
      "Found root:['(參加)', 'zh'] for word:참가\n",
      "Found root:['(最近)', 'zh'] for word:최근\n",
      "Found root:['(年)', 'zh'] for word:년\n",
      "Found root:['(吉林省)', 'zh'] for word:길림성\n",
      "Found root:['(入選)', 'zh'] for word:입선\n",
      "Found root:['(種目)', 'zh'] for word:종목\n",
      "Found root:['(酬價)', 'zh'] for word:수가\n",
      "Found root:['(回)', 'zh'] for word:회\n",
      "Found root:['(中國)', 'zh'] for word:중국\n",
      "Found root:['(曲藝)', 'zh'] for word:곡예\n",
      "Found root:['(牧丹)', 'zh'] for word:목단\n",
      "Found root:['(中國)', 'zh'] for word:중국\n",
      "Found root:['(中國)', 'zh'] for word:중국\n",
      "Found root:['(曲藝)', 'zh'] for word:곡예\n",
      "Found root:['(協會)', 'zh'] for word:협회\n",
      "Found root:['(共同)', 'zh'] for word:공동\n",
      "Found root:['(主催)', 'zh'] for word:주최\n",
      "Found root:['(全國)', 'zh'] for word:전국\n",
      "Found root:['(曲藝)', 'zh'] for word:곡예\n",
      "Found root:['(曲藝)', 'zh'] for word:곡예\n",
      "Found root:['(分野)', 'zh'] for word:분야\n",
      "Found root:['(國家)', 'zh'] for word:국가\n",
      "Found root:['(最高)', 'zh'] for word:최고\n",
      "Found root:['(한番)', 'ko'] for word:한번\n",
      "Found root:['(開催)', 'zh'] for word:개최\n",
      "Found root:['(吉林省)', 'zh'] for word:길림성\n",
      "Found root:['(曲藝)', 'zh'] for word:곡예\n",
      "Found root:['(協會)', 'zh'] for word:협회\n",
      "Found root:['(on-line)', 'en'] for word:온라인\n",
      "Found root:['(曲藝)', 'zh'] for word:곡예\n",
      "Found root:['(作品)', 'zh'] for word:작품\n",
      "Found root:['(seminar)', 'en'] for word:세미나\n",
      "Found root:['(開催)', 'zh'] for word:개최\n",
      "Found root:['(關聯/關連)', 'zh'] for word:관련\n",
      "Found root:['(專門家)', 'zh'] for word:전문가\n",
      "Found root:['(作品)', 'zh'] for word:작품\n",
      "Found root:['(地圖)', 'zh'] for word:지도\n",
      "Found root:['(要請)', 'zh'] for word:요청\n",
      "Found root:['(練習/鍊習)', 'zh'] for word:연습\n",
      "Found root:['(作品)', 'zh'] for word:작품\n",
      "Found root:['(質)', 'zh'] for word:질\n",
      "Found root:['(成績)', 'zh'] for word:성적\n",
      "Found root:['(誠意)', 'zh'] for word:성의\n",
      "Found root:['(榮譽)', 'zh'] for word:영예\n",
      "Found root:['(計劃/計畫)', 'zh'] for word:계획\n",
      "Found root:['(中國)', 'zh'] for word:중국\n",
      "Found root:['(吉林)', 'zh'] for word:길림\n",
      "Merge key total_words\n",
      "Merge key korean_words\n",
      "Merge key chinese_words\n",
      "Merge key english_words\n",
      "Merge key japanese_words\n",
      "Merge key kroot_words\n",
      "Merge key croot_words\n",
      "Merge key eroot_words\n",
      "Merge key oroot_words\n",
      "Merge key korean_noun\n",
      "Merge key korean_kroot_noun\n",
      "Merge key korean_croot_noun\n",
      "Merge key korean_eroot_noun\n",
      "Merge key korean_oroot_noun\n",
      "Merge key korean_verb\n",
      "Merge key korean_kroot_verb\n",
      "Merge key korean_croot_verb\n",
      "Merge key korean_eroot_verb\n",
      "Merge key korean_oroot_verb\n",
      "Merge key eroot_list\n",
      "Merge key croot_list\n",
      "Merge key tag_text\n"
     ]
    }
   ],
   "source": [
    "art = {'source':sources[0]}\n",
    "t = m.parse_article(art)"
   ]
  },
  {
   "cell_type": "code",
   "execution_count": 15,
   "id": "1d330bdd",
   "metadata": {},
   "outputs": [
    {
     "name": "stdout",
     "output_type": "stream",
     "text": [
      "url:http://www.iybrb.com/civ/content/2022-05/27/26_553578.html\n",
      "=============================\n",
      "Korean:6 Chinese:0 English:0 Japaness:0 Unknown:0\n",
      "TotalKorean:6 k:1 c:4 e:0 o:1\n",
      "Nouns      :6 k:1 c:4 e:0 o:1\n",
      "Verbs      :0 K:0 c:0 e:0 o:0\n",
      "EnglishRoot:[]\n",
      "ChineseRoot:['중국', '곡예', '목단', '입선']\n",
      "최려령 제12회 중국곡예 목단상 입선\n",
      "o.....k.....c..c...c....c..\n",
      "=============================\n",
      "Korean:149 Chinese:0 English:0 Japaness:0 Unknown:0\n",
      "TotalKorean:149 k:36 c:107 e:2 o:4\n",
      "Nouns      :130 k:20 c:105 e:2 o:3\n",
      "Verbs      :19 K:16 c:2 e:0 o:1\n",
      "EnglishRoot:['온라인', '세미나']\n",
      "ChineseRoot:['일전', '중국', '곡예', '목단', '전국', '곡예', '시합', '입선', '명단', '발표', '길림성', '곡예', '협회', '추천', '부의', '작품', '길림성', '인전', '예술가', '협회', '추천', '부의', '작품', '목단', '입선', '중', '량영우', '작사', '강화', '감독', '표현', '정', '정', '은', '춘', '향', '한양', '정', '리별', '춘', '향', '리별', '심정', '생동', '표현', '작품', '길림성', '곡예', '협회', '지도', '중국', '곡예', '목단', '특별', '신인상', '입선', '부의', '작품', '길림성', '대표', '각', '회장', '시합', '참가', '최근', '년', '길림성', '입선', '종목', '수가', '회', '중국', '곡예', '목단', '중국', '중국', '곡예', '협회', '공동', '주최', '전국', '곡예', '곡예', '분야', '국가', '최고', '개최', '길림성', '곡예', '협회', '곡예', '작품', '개최', '관련', '전문가', '작품', '지도', '요청', '연습', '작품', '질', '성적', '성의', '영예', '계획', '중국', '길림']\n",
      "일전 제12회 중국곡예 목단상 전국곡예시합 입선명단이 발표됐다.길림성곡예가협회에서 추천한 2부의 작품과 길림성 2인전예술가\n",
      "c...k.....c..c...c.....c..c..c...c..c....c..k...c....c...c......c......c...c....c......c..c...\n",
      "협회에서 추천한 4부의 작품이 목단상에 입선됐는데 그중에는 량영우가 작사하고 강화가 감독, 최려령이 표현한 <오리정>이\n",
      "c......c......c...c....c......c..k......c.....c......c......c....c....o......c......k..c.k.\n",
      " 들어있다.<오리정>은 춘향이 한양으로 떠나는 리몽룡과 오리정에서 리별하는 대목으로, 춘향의 리별을 앞둔 슬픈 심정을 생동\n",
      ".o.......k..c..c.c.c...c......k....o......k..c.....c......k.......cc...c.....k.......c....c..\n",
      "하게 표현하는 작품이다. 일찍 2014년에 길림성곡예가협회의 지도하에 최려령은 제8회 중국곡예 목단상 ‘특별신인상’을 수상한\n",
      "k...c..k...c.......k...........c....c...c.....c......o......k....c..c...c.....c..c.......k....\n",
      " 바 있다.입선된 6부의 작품은 길림성을 대표해 각 분회장의 시합에 참가하게 된다. 이것은 최근년에 길림성에서 입선 종목\n",
      ".k......c..k..c...c.....c......c..k.c..kc.....c....c..k...k......k...c..c...c.......c...c..\n",
      "수가 가장 많은 한회이다. 중국곡예 목단상은 중국문련, 중국곡예가협회에서 공동 주최하는 전국성 곡예상으로 곡예 분야의 국가\n",
      "c...k.........c.....c..c...c......c..k....c..c....c......c...c..k...c....c........c...c....c..\n",
      "급 최고상이며 2년에 한번씩 개최한다.　　길림성곡예가협회에서는 온라인으로 곡예작품 세미나를 개최하고 관련 전문가에게 작품\n",
      "...c............k.....c..k.....c...c....c.......e........c..c...e......c......c...c.......c..\n",
      "지도를 요청한 뒤 연습을 다그쳐 작품의 질을 높이고 좋은 성적을 따내 우리 성의 영예를 빛낼 것이라 계획을 밝혔다. 중국\n",
      "c.....c....k..c....k.....c....c...k.........c....k...k...c...c.....k...k....c.....k.....c..\n",
      "길림넷\n",
      "c..k.\n",
      "\n"
     ]
    }
   ],
   "source": [
    "print(t['article_tag_text'])"
   ]
  },
  {
   "cell_type": "code",
   "execution_count": null,
   "id": "f7e86a87",
   "metadata": {},
   "outputs": [],
   "source": []
  },
  {
   "cell_type": "code",
   "execution_count": null,
   "id": "e6fa99da",
   "metadata": {},
   "outputs": [],
   "source": []
  },
  {
   "cell_type": "code",
   "execution_count": null,
   "id": "c5dd5bac",
   "metadata": {},
   "outputs": [],
   "source": []
  },
  {
   "cell_type": "code",
   "execution_count": null,
   "id": "45aaf642",
   "metadata": {},
   "outputs": [],
   "source": []
  }
 ],
 "metadata": {
  "kernelspec": {
   "display_name": "Python 3 (ipykernel)",
   "language": "python",
   "name": "python3"
  },
  "language_info": {
   "codemirror_mode": {
    "name": "ipython",
    "version": 3
   },
   "file_extension": ".py",
   "mimetype": "text/x-python",
   "name": "python",
   "nbconvert_exporter": "python",
   "pygments_lexer": "ipython3",
   "version": "3.9.10"
  }
 },
 "nbformat": 4,
 "nbformat_minor": 5
}
